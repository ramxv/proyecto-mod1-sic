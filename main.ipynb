{
 "cells": [
  {
   "cell_type": "markdown",
   "metadata": {},
   "source": [
    "# Análisis de Factores que Incrementan el Consumo de Combustible y la Huella de Carbono"
   ]
  },
  {
   "cell_type": "code",
   "execution_count": 1,
   "metadata": {},
   "outputs": [],
   "source": [
    "# IMPORTAR LIBRERIAS NECESARIAS\n",
    "import pandas as pd\n",
    "import matplotlib.pyplot as plt\n",
    "import numpy as np\n",
    "import IPython.core.display as HTML\n",
    "\n",
    "# DECLARACIÓN DE VARIABLES \n",
    "paises_industrializados = [\"Estados Unidos\", \"Canada\", \"Japón\", \"Alemania\", \"Reino Unido\"]\n",
    "paises_emergentes = [\"China\", \"India\", \"Brasil\", \"México\", \"Corea del Sur\"]"
   ]
  },
  {
   "cell_type": "markdown",
   "metadata": {},
   "source": [
    "## 1 Lectura y limpieza de los datos\n",
    "\n",
    "### 1.1. Resumen de cambios y variables resultantes"
   ]
  },
  {
   "cell_type": "code",
   "execution_count": 2,
   "metadata": {},
   "outputs": [
    {
     "data": {
      "text/plain": [
       "\"\\n{'co2_including_luc', 'cumulative_coal_co2', 'flaring_co2', 'oil_co2', 'coal_co2', 'coal_co2_per_capita', \\n'land_use_change_co2', 'year', 'share_global_cement_co2', 'share_global_cumulative_coal_co2', 'energy_per_capita', \\n'share_global_cumulative_cement_co2', 'share_global_gas_co2', 'cumulative_flaring_co2', 'oil_co2_per_capita', \\n'co2_per_unit_energy', 'share_global_flaring_co2', 'iso_code', 'co2_including_luc_growth_prct', 'co2', \\n'cumulative_cement_co2', 'population', 'share_global_cumulative_co2_including_luc', 'gas_co2_per_capita', \\n'share_global_cumulative_co2', 'co2_per_capita', 'share_global_cumulative_flaring_co2', 'share_global_coal_co2', \\n'share_global_co2_including_luc', 'cement_co2_per_capita', 'cumulative_co2_including_luc', 'cumulative_gas_co2', \\n'co2_including_luc_per_unit_energy', 'share_global_luc_co2', 'share_global_oil_co2', 'share_global_co2', 'gas_co2', \\n'primary_energy_consumption', 'cement_co2', 'co2_growth_abs', 'country', 'share_global_cumulative_oil_co2', \\n'share_global_cumulative_gas_co2', 'flaring_co2_per_capita', 'co2_including_luc_per_capita', \\n'co2_including_luc_growth_abs', 'cumulative_oil_co2', 'land_use_change_co2_per_capita', \\n'share_global_cumulative_luc_co2', 'cumulative_luc_co2', 'co2_growth_prct', 'cumulative_co2'}\\n\""
      ]
     },
     "execution_count": 2,
     "metadata": {},
     "output_type": "execute_result"
    }
   ],
   "source": [
    "# Proyecto de medio curso para Samsung Innovation Campus: Huella de carbono\n",
    "\n",
    "# Lectura de datos y limpieza\n",
    "# Autor: Dwight Sutherland\n",
    "# Fecha: 3/18/2024\n",
    "\n",
    "\n",
    "\n",
    "#______________________________________Resumen de los cambios y variables resultantes_______________________________________\n",
    "'''\n",
    "Este codigo se encarga de limpiar los datos originales y de crear un nuevo dataframe con los datos de 1990 en adelante.\n",
    "Ademas, se crea un dataframe con los paises que nos interesan y se separan en dos grupos: paises industrializados \n",
    "y paises emergentes.\n",
    "\n",
    "Para cada uno de los dataframes se crea un archivo csv para su visualizacion rapida y se crea un codebook con las \n",
    "definiciones de las categorias restantes.\n",
    "\n",
    "Los archivos creados por este código son:\n",
    "\n",
    "    - owid-co2-data-1990.csv: dataframe con los datos de 1990 en adelante\n",
    "    - owid-co2-data-1990-country.csv: dataframe con los paises que nos interesan\n",
    "    - industrializados.csv: dataframe con los paises industrializados\n",
    "    - emergentes.csv: dataframe con los paises emergentes\n",
    "    - owid-co2-codebook-new.csv: codebook con las categorias restantes\n",
    "'''\n",
    "\n",
    "\n",
    "\n",
    "# Las variables resultantes son:\n",
    "#   data_og: dataframe con los datos originales\n",
    "#   data: dataframe con los datos de 1990 en adelante\n",
    "#   data_ind: dataframe con los paises industrializados\n",
    "#   data_em: dataframe con los paises emergentes\n",
    "#   codebook_og: codebook original\n",
    "#   codebook: codebook con las categorias restantes\n",
    "\n",
    "\n",
    "\n",
    "# Las categorias que se eliminaron porque incluían datos vacios son:\n",
    "'''\n",
    "{'cumulative_other_co2', 'share_of_temperature_change_from_ghg', 'temperature_change_from_n2o', 'trade_co2_share', \n",
    "'energy_per_gdp', 'consumption_co2_per_capita', 'methane', 'temperature_change_from_ch4', 'consumption_co2', \n",
    "'ghg_excluding_lucf_per_capita', 'co2_including_luc_per_gdp', 'co2_per_gdp', 'trade_co2', 'gdp', 'nitrous_oxide', \n",
    "'temperature_change_from_ghg', 'temperature_change_from_co2', 'share_global_other_co2', 'consumption_co2_per_gdp', \n",
    "'methane_per_capita', 'share_global_cumulative_other_co2', 'total_ghg_excluding_lucf', 'ghg_per_capita', \n",
    "'nitrous_oxide_per_capita', 'total_ghg', 'other_industry_co2', 'other_co2_per_capita'}\n",
    "'''\n",
    "\n",
    "\n",
    "# Las categorias que permanecen son:\n",
    "'''\n",
    "{'co2_including_luc', 'cumulative_coal_co2', 'flaring_co2', 'oil_co2', 'coal_co2', 'coal_co2_per_capita', \n",
    "'land_use_change_co2', 'year', 'share_global_cement_co2', 'share_global_cumulative_coal_co2', 'energy_per_capita', \n",
    "'share_global_cumulative_cement_co2', 'share_global_gas_co2', 'cumulative_flaring_co2', 'oil_co2_per_capita', \n",
    "'co2_per_unit_energy', 'share_global_flaring_co2', 'iso_code', 'co2_including_luc_growth_prct', 'co2', \n",
    "'cumulative_cement_co2', 'population', 'share_global_cumulative_co2_including_luc', 'gas_co2_per_capita', \n",
    "'share_global_cumulative_co2', 'co2_per_capita', 'share_global_cumulative_flaring_co2', 'share_global_coal_co2', \n",
    "'share_global_co2_including_luc', 'cement_co2_per_capita', 'cumulative_co2_including_luc', 'cumulative_gas_co2', \n",
    "'co2_including_luc_per_unit_energy', 'share_global_luc_co2', 'share_global_oil_co2', 'share_global_co2', 'gas_co2', \n",
    "'primary_energy_consumption', 'cement_co2', 'co2_growth_abs', 'country', 'share_global_cumulative_oil_co2', \n",
    "'share_global_cumulative_gas_co2', 'flaring_co2_per_capita', 'co2_including_luc_per_capita', \n",
    "'co2_including_luc_growth_abs', 'cumulative_oil_co2', 'land_use_change_co2_per_capita', \n",
    "'share_global_cumulative_luc_co2', 'cumulative_luc_co2', 'co2_growth_prct', 'cumulative_co2'}\n",
    "'''"
   ]
  },
  {
   "cell_type": "markdown",
   "metadata": {},
   "source": [
    "### 1.2. Lectura de datos"
   ]
  },
  {
   "cell_type": "code",
   "execution_count": 3,
   "metadata": {},
   "outputs": [
    {
     "name": "stdout",
     "output_type": "stream",
     "text": [
      "owid-co2-data.csv\n"
     ]
    }
   ],
   "source": [
    "#___________________________________________Lectura de los datos_______________________________________\n",
    "\n",
    "### Leemos el archivo de datos\n",
    "\n",
    "\n",
    "ruta_derivada = 'derivados'      # Ruta completa\n",
    "data_og = 'owid-co2-data.csv'\n",
    "print(data_og)\n",
    "data_og = pd.read_csv(data_og)      # Dataframe con los datos originales"
   ]
  },
  {
   "cell_type": "markdown",
   "metadata": {},
   "source": [
    "### 1.3. Dataframe con los datos de 1990 en adelante"
   ]
  },
  {
   "cell_type": "code",
   "execution_count": 4,
   "metadata": {},
   "outputs": [],
   "source": [
    "\n",
    "#___________________________________________Dataframe con los datos de 1990 en adelante_______________________________________\n",
    "### Eliminamos las filas correspondientes a 1989 para atrás y guardamos en otro archivo nuevo\n",
    "\n",
    "\n",
    "# El estudio se realiza de 1990 a 2020\n",
    "\n",
    "data = data_og[(data_og['year'] >= 1990) & (data_og['year'] <= 2020)]       # Dataframe con los datos de 1990 en adelante\n",
    "data.to_csv(ruta_derivada + '\\data-1990.csv', index=False)\n"
   ]
  },
  {
   "cell_type": "markdown",
   "metadata": {},
   "source": [
    "### 1.4. Dataframe con los paises que nos interesan y eliminamos las categorias con valores nulos"
   ]
  },
  {
   "cell_type": "code",
   "execution_count": 5,
   "metadata": {},
   "outputs": [],
   "source": [
    "\n",
    "#___________________________________________Dataframe con los paises que nos interesan_______________________________________\n",
    "'''\n",
    "Creamos un nuevo dataframe con los paises que nos interesan\n",
    "United States, Canada, Japan, Germany, United Kingdom, China, India, Mexico, South Korea\n",
    "'''\n",
    "\n",
    "data = data[(data['country'] == 'United States') | (data['country'] == 'Canada') | (data['country'] == 'Japan')|\n",
    "            (data['country'] == 'Germany') | (data['country'] == 'United Kingdom') | (data['country'] == 'China')|\n",
    "            (data['country'] == 'India') | (data['country'] == 'Mexico') | (data['country'] == 'South Korea')| (data['country'] == 'Brazil')]\n",
    "\n",
    "\n",
    "### Eliminamos las categorias con valores nulos\n",
    "# Las categorias co2, methane, methane_per_capita, nitrous_oxide, nitrous_oxide_per_capita deben mantenerse\n",
    "# aunque tengan valores vacios\n",
    "\n",
    "data_columns = data.columns\n",
    "data = data.dropna(how='any', axis=1)       # Eliminamos las categorias con valores nulos\n",
    "data_columns_new = data.columns\n",
    "data.to_csv(ruta_derivada + '\\data-1990-country_of_interest.csv', index=False)\n"
   ]
  },
  {
   "cell_type": "markdown",
   "metadata": {},
   "source": [
    "### 1.5. Dataframe con los paises industrializados y emergentes"
   ]
  },
  {
   "cell_type": "code",
   "execution_count": 8,
   "metadata": {},
   "outputs": [],
   "source": [
    "\n",
    "# ___________________________________________Dataframe con los paises industrializados y emergentes_______________________________________\n",
    "\n",
    "'''\n",
    "Separo los datos en dos grupos:\n",
    "    - Paises industrializados: United States, Canada, Japan, Germany, United Kingdom\n",
    "    - Paises emergentes: China, India, Mexico, South Korea, Brazil\n",
    "'''\n",
    "\n",
    "### Dataframe con los paises industrializados\n",
    "data_ind = data[(data['country'] == 'United States') | (data['country'] == 'Canada') | (data['country'] == 'Japan')\n",
    "                | (data['country'] == 'Germany') | (data['country'] == 'United Kingdom')]\n",
    "\n",
    "### Dataframe con los paises emergentes\n",
    "data_em = data[(data['country'] == 'China') | (data['country'] == 'India') | (data['country'] == 'Mexico')\n",
    "                | (data['country'] == 'South Korea') | (data['country'] == 'Brazil')]\n",
    "\n",
    "data_ind.to_csv(ruta_derivada + '\\industrializados.csv', index=False)\n",
    "data_em.to_csv(ruta_derivada + '\\emergentes.csv', index=False)\n",
    "\n",
    "\n"
   ]
  },
  {
   "cell_type": "markdown",
   "metadata": {},
   "source": [
    "### 1.6. Codebook con las categorias restantes del dataframe"
   ]
  },
  {
   "cell_type": "code",
   "execution_count": 9,
   "metadata": {},
   "outputs": [],
   "source": [
    "\n",
    "#___________________________________________Codebook con las categorias restantes_______________________________________\n",
    "\n",
    "### Modificacion del codebook para que permanezcan solo las categorias restantes\n",
    "codebook_og = pd.read_csv('owid-co2-codebook.csv')     \n",
    "codebook = codebook_og[codebook_og['column'].isin(data_columns_new)]      \n",
    "codebook.to_csv(ruta_derivada + '\\codebook-new.csv', index=False)\n",
    "\n",
    "# print(f'El nuevo codebook tiene {len(codebook)} categorias\\nEL codebook original tiene {len(data_columns)} categorias\\n')"
   ]
  }
 ],
 "metadata": {
  "kernelspec": {
   "display_name": "sic",
   "language": "python",
   "name": "python3"
  },
  "language_info": {
   "codemirror_mode": {
    "name": "ipython",
    "version": 3
   },
   "file_extension": ".py",
   "mimetype": "text/x-python",
   "name": "python",
   "nbconvert_exporter": "python",
   "pygments_lexer": "ipython3",
   "version": "3.9.7"
  }
 },
 "nbformat": 4,
 "nbformat_minor": 2
}
