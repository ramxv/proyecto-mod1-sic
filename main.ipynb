{
 "cells": [
  {
   "cell_type": "markdown",
   "metadata": {},
   "source": [
    "# Análisis de Factores que Incrementan el Consumo de Combustible y la Huella de Carbono"
   ]
  },
  {
   "cell_type": "code",
   "execution_count": 1,
   "metadata": {},
   "outputs": [],
   "source": [
    "# IMPORTAR LIBRERIAS NECESARIAS\n",
    "import pandas as pd\n",
    "import matplotlib.pyplot as plt\n",
    "import numpy as np\n",
    "import IPython.core.display as HTML\n",
    "\n",
    "# DECLARACIÓN DE VARIABLES \n",
    "paises_industrializados = [\"Estados Unidos\", \"Canada\", \"Japón\", \"Alemania\", \"Reino Unido\"]\n",
    "paises_emergentes = [\"China\", \"India\", \"Brasil\", \"México\", \"Corea del Sur\"]"
   ]
  }
 ],
 "metadata": {
  "kernelspec": {
   "display_name": "sic",
   "language": "python",
   "name": "python3"
  },
  "language_info": {
   "codemirror_mode": {
    "name": "ipython",
    "version": 3
   },
   "file_extension": ".py",
   "mimetype": "text/x-python",
   "name": "python",
   "nbconvert_exporter": "python",
   "pygments_lexer": "ipython3",
   "version": "3.9.7"
  }
 },
 "nbformat": 4,
 "nbformat_minor": 2
}
